{
 "cells": [
  {
   "cell_type": "code",
   "execution_count": 1,
   "id": "54c0953a-5448-4024-8496-b7f3dca5f5e4",
   "metadata": {},
   "outputs": [
    {
     "name": "stdout",
     "output_type": "stream",
     "text": [
      "Food items and their calories:\n",
      "Apple: 95 calories\n",
      "Banana: 105 calories\n",
      "Chicken Breast (100g): 165 calories\n",
      "Broccoli (1 cup): 55 calories\n",
      "Rice (1 cup): 206 calories\n",
      "\n",
      "Total calories for the meal: 626 calories\n"
     ]
    }
   ],
   "source": [
    "def calculate_total_calories(food_items):\n",
    "    \"\"\"\n",
    "    Calculate the total calories based on the list of food items.\n",
    "    Each food item should be a tuple in the form (food_name, calories).\n",
    "    \n",
    "    :param food_items: List of tuples containing food names and their calories.\n",
    "    :return: Total calorie count.\n",
    "    \"\"\"\n",
    "    total_calories = 0\n",
    "    for item in food_items:\n",
    "        total_calories += item[1]\n",
    "    return total_calories\n",
    "\n",
    "def main():\n",
    "    # Example list of food items with their calorie values\n",
    "    food_items = [\n",
    "        (\"Apple\", 95),\n",
    "        (\"Banana\", 105),\n",
    "        (\"Chicken Breast (100g)\", 165),\n",
    "        (\"Broccoli (1 cup)\", 55),\n",
    "        (\"Rice (1 cup)\", 206)\n",
    "    ]\n",
    "    \n",
    "    # Display food items and their calories\n",
    "    print(\"Food items and their calories:\")\n",
    "    for food, calories in food_items:\n",
    "        print(f\"{food}: {calories} calories\")\n",
    "    \n",
    "    # Calculate the total calories\n",
    "    total_calories = calculate_total_calories(food_items)\n",
    "    \n",
    "    # Display the total calories\n",
    "    print(f\"\\nTotal calories for the meal: {total_calories} calories\")\n",
    "\n",
    "if __name__ == \"__main__\":\n",
    "    main()\n"
   ]
  },
  {
   "cell_type": "code",
   "execution_count": null,
   "id": "d1189cbb-15f9-4de4-98f7-a8c3ee2b7445",
   "metadata": {},
   "outputs": [],
   "source": []
  }
 ],
 "metadata": {
  "kernelspec": {
   "display_name": "Python 3 (ipykernel)",
   "language": "python",
   "name": "python3"
  },
  "language_info": {
   "codemirror_mode": {
    "name": "ipython",
    "version": 3
   },
   "file_extension": ".py",
   "mimetype": "text/x-python",
   "name": "python",
   "nbconvert_exporter": "python",
   "pygments_lexer": "ipython3",
   "version": "3.11.7"
  }
 },
 "nbformat": 4,
 "nbformat_minor": 5
}
